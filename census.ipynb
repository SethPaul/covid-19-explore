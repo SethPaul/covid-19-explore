{
 "cells": [
  {
   "cell_type": "code",
   "execution_count": 7,
   "metadata": {},
   "outputs": [],
   "source": [
    "library(ggplot2)\n",
    "library(readr)\n",
    "library(dplyr)\n",
    "library(lubridate)\n",
    "library(tidyr)\n",
    "library(readxl)"
   ]
  },
  {
   "cell_type": "code",
   "execution_count": 6,
   "metadata": {},
   "outputs": [
    {
     "name": "stderr",
     "output_type": "stream",
     "text": [
      "Installing package into ‘/usr/local/lib/R/site-library’\n",
      "(as ‘lib’ is unspecified)\n",
      "\n",
      "also installing the dependencies ‘rematch’, ‘cellranger’, ‘progress’\n",
      "\n",
      "\n"
     ]
    }
   ],
   "source": [
    "install.packages(\"readxl\")"
   ]
  },
  {
   "cell_type": "code",
   "execution_count": 10,
   "metadata": {},
   "outputs": [],
   "source": [
    "system(\"git -C ../COVID-19/ pull\")"
   ]
  },
  {
   "cell_type": "code",
   "execution_count": 32,
   "metadata": {},
   "outputs": [],
   "source": [
    "system(\"wget https://www2.census.gov/programs-surveys/popest/tables/2010-2019/state/totals/nst-est2019-01.xlsx\")"
   ]
  },
  {
   "cell_type": "code",
   "execution_count": 24,
   "metadata": {},
   "outputs": [
    {
     "name": "stderr",
     "output_type": "stream",
     "text": [
      "New names:\n",
      "* `` -> ...1\n",
      "\n"
     ]
    }
   ],
   "source": [
    "census_xl <- readxl::read_xlsx('./nst-est2019-01.xlsx', skip = 3)"
   ]
  },
  {
   "cell_type": "code",
   "execution_count": 36,
   "metadata": {},
   "outputs": [
    {
     "data": {
      "text/html": [
       "<table>\n",
       "<caption>A tibble: 6 × 13</caption>\n",
       "<thead>\n",
       "\t<tr><th scope=col>...1</th><th scope=col>Census</th><th scope=col>Estimates Base</th><th scope=col>2010</th><th scope=col>2011</th><th scope=col>2012</th><th scope=col>2013</th><th scope=col>2014</th><th scope=col>2015</th><th scope=col>2016</th><th scope=col>2017</th><th scope=col>2018</th><th scope=col>2019</th></tr>\n",
       "\t<tr><th scope=col>&lt;chr&gt;</th><th scope=col>&lt;dbl&gt;</th><th scope=col>&lt;dbl&gt;</th><th scope=col>&lt;dbl&gt;</th><th scope=col>&lt;dbl&gt;</th><th scope=col>&lt;dbl&gt;</th><th scope=col>&lt;dbl&gt;</th><th scope=col>&lt;dbl&gt;</th><th scope=col>&lt;dbl&gt;</th><th scope=col>&lt;dbl&gt;</th><th scope=col>&lt;dbl&gt;</th><th scope=col>&lt;dbl&gt;</th><th scope=col>&lt;dbl&gt;</th></tr>\n",
       "</thead>\n",
       "<tbody>\n",
       "\t<tr><td>United States</td><td>308745538</td><td>308758105</td><td>309321666</td><td>311556874</td><td>313830990</td><td>315993715</td><td>318301008</td><td>320635163</td><td>322941311</td><td>324985539</td><td>326687501</td><td>328239523</td></tr>\n",
       "\t<tr><td>Northeast    </td><td> 55317240</td><td> 55318443</td><td> 55380134</td><td> 55604223</td><td> 55775216</td><td> 55901806</td><td> 56006011</td><td> 56034684</td><td> 56042330</td><td> 56059240</td><td> 56046620</td><td> 55982803</td></tr>\n",
       "\t<tr><td>Midwest      </td><td> 66927001</td><td> 66929725</td><td> 66974416</td><td> 67157800</td><td> 67336743</td><td> 67560379</td><td> 67745167</td><td> 67860583</td><td> 67987540</td><td> 68126781</td><td> 68236628</td><td> 68329004</td></tr>\n",
       "\t<tr><td>South        </td><td>114555744</td><td>114563030</td><td>114866680</td><td>116006522</td><td>117241208</td><td>118364400</td><td>119624037</td><td>120997341</td><td>122351760</td><td>123542189</td><td>124569433</td><td>125580448</td></tr>\n",
       "\t<tr><td>West         </td><td> 71945553</td><td> 71946907</td><td> 72100436</td><td> 72788329</td><td> 73477823</td><td> 74167130</td><td> 74925793</td><td> 75742555</td><td> 76559681</td><td> 77257329</td><td> 77834820</td><td> 78347268</td></tr>\n",
       "\t<tr><td>.Alabama     </td><td>  4779736</td><td>  4780125</td><td>  4785437</td><td>  4799069</td><td>  4815588</td><td>  4830081</td><td>  4841799</td><td>  4852347</td><td>  4863525</td><td>  4874486</td><td>  4887681</td><td>  4903185</td></tr>\n",
       "</tbody>\n",
       "</table>\n"
      ],
      "text/latex": [
       "A tibble: 6 × 13\n",
       "\\begin{tabular}{lllllllllllll}\n",
       " ...1 & Census & Estimates Base & 2010 & 2011 & 2012 & 2013 & 2014 & 2015 & 2016 & 2017 & 2018 & 2019\\\\\n",
       " <chr> & <dbl> & <dbl> & <dbl> & <dbl> & <dbl> & <dbl> & <dbl> & <dbl> & <dbl> & <dbl> & <dbl> & <dbl>\\\\\n",
       "\\hline\n",
       "\t United States & 308745538 & 308758105 & 309321666 & 311556874 & 313830990 & 315993715 & 318301008 & 320635163 & 322941311 & 324985539 & 326687501 & 328239523\\\\\n",
       "\t Northeast     &  55317240 &  55318443 &  55380134 &  55604223 &  55775216 &  55901806 &  56006011 &  56034684 &  56042330 &  56059240 &  56046620 &  55982803\\\\\n",
       "\t Midwest       &  66927001 &  66929725 &  66974416 &  67157800 &  67336743 &  67560379 &  67745167 &  67860583 &  67987540 &  68126781 &  68236628 &  68329004\\\\\n",
       "\t South         & 114555744 & 114563030 & 114866680 & 116006522 & 117241208 & 118364400 & 119624037 & 120997341 & 122351760 & 123542189 & 124569433 & 125580448\\\\\n",
       "\t West          &  71945553 &  71946907 &  72100436 &  72788329 &  73477823 &  74167130 &  74925793 &  75742555 &  76559681 &  77257329 &  77834820 &  78347268\\\\\n",
       "\t .Alabama      &   4779736 &   4780125 &   4785437 &   4799069 &   4815588 &   4830081 &   4841799 &   4852347 &   4863525 &   4874486 &   4887681 &   4903185\\\\\n",
       "\\end{tabular}\n"
      ],
      "text/markdown": [
       "\n",
       "A tibble: 6 × 13\n",
       "\n",
       "| ...1 &lt;chr&gt; | Census &lt;dbl&gt; | Estimates Base &lt;dbl&gt; | 2010 &lt;dbl&gt; | 2011 &lt;dbl&gt; | 2012 &lt;dbl&gt; | 2013 &lt;dbl&gt; | 2014 &lt;dbl&gt; | 2015 &lt;dbl&gt; | 2016 &lt;dbl&gt; | 2017 &lt;dbl&gt; | 2018 &lt;dbl&gt; | 2019 &lt;dbl&gt; |\n",
       "|---|---|---|---|---|---|---|---|---|---|---|---|---|\n",
       "| United States | 308745538 | 308758105 | 309321666 | 311556874 | 313830990 | 315993715 | 318301008 | 320635163 | 322941311 | 324985539 | 326687501 | 328239523 |\n",
       "| Northeast     |  55317240 |  55318443 |  55380134 |  55604223 |  55775216 |  55901806 |  56006011 |  56034684 |  56042330 |  56059240 |  56046620 |  55982803 |\n",
       "| Midwest       |  66927001 |  66929725 |  66974416 |  67157800 |  67336743 |  67560379 |  67745167 |  67860583 |  67987540 |  68126781 |  68236628 |  68329004 |\n",
       "| South         | 114555744 | 114563030 | 114866680 | 116006522 | 117241208 | 118364400 | 119624037 | 120997341 | 122351760 | 123542189 | 124569433 | 125580448 |\n",
       "| West          |  71945553 |  71946907 |  72100436 |  72788329 |  73477823 |  74167130 |  74925793 |  75742555 |  76559681 |  77257329 |  77834820 |  78347268 |\n",
       "| .Alabama      |   4779736 |   4780125 |   4785437 |   4799069 |   4815588 |   4830081 |   4841799 |   4852347 |   4863525 |   4874486 |   4887681 |   4903185 |\n",
       "\n"
      ],
      "text/plain": [
       "  ...1          Census    Estimates Base 2010      2011      2012     \n",
       "1 United States 308745538 308758105      309321666 311556874 313830990\n",
       "2 Northeast      55317240  55318443       55380134  55604223  55775216\n",
       "3 Midwest        66927001  66929725       66974416  67157800  67336743\n",
       "4 South         114555744 114563030      114866680 116006522 117241208\n",
       "5 West           71945553  71946907       72100436  72788329  73477823\n",
       "6 .Alabama        4779736   4780125        4785437   4799069   4815588\n",
       "  2013      2014      2015      2016      2017      2018      2019     \n",
       "1 315993715 318301008 320635163 322941311 324985539 326687501 328239523\n",
       "2  55901806  56006011  56034684  56042330  56059240  56046620  55982803\n",
       "3  67560379  67745167  67860583  67987540  68126781  68236628  68329004\n",
       "4 118364400 119624037 120997341 122351760 123542189 124569433 125580448\n",
       "5  74167130  74925793  75742555  76559681  77257329  77834820  78347268\n",
       "6   4830081   4841799   4852347   4863525   4874486   4887681   4903185"
      ]
     },
     "metadata": {},
     "output_type": "display_data"
    }
   ],
   "source": [
    "census_xl %>% head()"
   ]
  },
  {
   "cell_type": "code",
   "execution_count": 37,
   "metadata": {},
   "outputs": [
    {
     "data": {
      "text/html": [
       "<table>\n",
       "<caption>A tibble: 6 × 2</caption>\n",
       "<thead>\n",
       "\t<tr><th scope=col>...1</th><th scope=col>2019</th></tr>\n",
       "\t<tr><th scope=col>&lt;chr&gt;</th><th scope=col>&lt;dbl&gt;</th></tr>\n",
       "</thead>\n",
       "<tbody>\n",
       "\t<tr><td>United States</td><td>328239523</td></tr>\n",
       "\t<tr><td>Northeast    </td><td> 55982803</td></tr>\n",
       "\t<tr><td>Midwest      </td><td> 68329004</td></tr>\n",
       "\t<tr><td>South        </td><td>125580448</td></tr>\n",
       "\t<tr><td>West         </td><td> 78347268</td></tr>\n",
       "\t<tr><td>.Alabama     </td><td>  4903185</td></tr>\n",
       "</tbody>\n",
       "</table>\n"
      ],
      "text/latex": [
       "A tibble: 6 × 2\n",
       "\\begin{tabular}{ll}\n",
       " ...1 & 2019\\\\\n",
       " <chr> & <dbl>\\\\\n",
       "\\hline\n",
       "\t United States & 328239523\\\\\n",
       "\t Northeast     &  55982803\\\\\n",
       "\t Midwest       &  68329004\\\\\n",
       "\t South         & 125580448\\\\\n",
       "\t West          &  78347268\\\\\n",
       "\t .Alabama      &   4903185\\\\\n",
       "\\end{tabular}\n"
      ],
      "text/markdown": [
       "\n",
       "A tibble: 6 × 2\n",
       "\n",
       "| ...1 &lt;chr&gt; | 2019 &lt;dbl&gt; |\n",
       "|---|---|\n",
       "| United States | 328239523 |\n",
       "| Northeast     |  55982803 |\n",
       "| Midwest       |  68329004 |\n",
       "| South         | 125580448 |\n",
       "| West          |  78347268 |\n",
       "| .Alabama      |   4903185 |\n",
       "\n"
      ],
      "text/plain": [
       "  ...1          2019     \n",
       "1 United States 328239523\n",
       "2 Northeast      55982803\n",
       "3 Midwest        68329004\n",
       "4 South         125580448\n",
       "5 West           78347268\n",
       "6 .Alabama        4903185"
      ]
     },
     "metadata": {},
     "output_type": "display_data"
    }
   ],
   "source": [
    "census_xl %>%\n",
    "select(1, \"2019\") %>% \n",
    "head()"
   ]
  },
  {
   "cell_type": "markdown",
   "metadata": {},
   "source": []
  },
  {
   "cell_type": "code",
   "execution_count": 51,
   "metadata": {
    "scrolled": false
   },
   "outputs": [],
   "source": [
    "census_df <- \n",
    "census_xl %>%\n",
    "transmute(region = `...1` %>% stringr::str_replace(\"\\\\.\", \"\"),\n",
    "          pop=`2019`) %>%\n",
    "filter(!is.na(pop)) %>%\n",
    "mutate(region = ifelse(region %in% state.name, \n",
    "                          setNames(state.abb, state.name)[region],\n",
    "                          region),\n",
    "          pop)"
   ]
  },
  {
   "cell_type": "code",
   "execution_count": 52,
   "metadata": {},
   "outputs": [
    {
     "data": {
      "text/html": [
       "<table>\n",
       "<caption>A tibble: 6 × 2</caption>\n",
       "<thead>\n",
       "\t<tr><th scope=col>region</th><th scope=col>pop</th></tr>\n",
       "\t<tr><th scope=col>&lt;chr&gt;</th><th scope=col>&lt;dbl&gt;</th></tr>\n",
       "</thead>\n",
       "<tbody>\n",
       "\t<tr><td>United States</td><td>328239523</td></tr>\n",
       "\t<tr><td>Northeast    </td><td> 55982803</td></tr>\n",
       "\t<tr><td>Midwest      </td><td> 68329004</td></tr>\n",
       "\t<tr><td>South        </td><td>125580448</td></tr>\n",
       "\t<tr><td>West         </td><td> 78347268</td></tr>\n",
       "\t<tr><td>AL           </td><td>  4903185</td></tr>\n",
       "</tbody>\n",
       "</table>\n"
      ],
      "text/latex": [
       "A tibble: 6 × 2\n",
       "\\begin{tabular}{ll}\n",
       " region & pop\\\\\n",
       " <chr> & <dbl>\\\\\n",
       "\\hline\n",
       "\t United States & 328239523\\\\\n",
       "\t Northeast     &  55982803\\\\\n",
       "\t Midwest       &  68329004\\\\\n",
       "\t South         & 125580448\\\\\n",
       "\t West          &  78347268\\\\\n",
       "\t AL            &   4903185\\\\\n",
       "\\end{tabular}\n"
      ],
      "text/markdown": [
       "\n",
       "A tibble: 6 × 2\n",
       "\n",
       "| region &lt;chr&gt; | pop &lt;dbl&gt; |\n",
       "|---|---|\n",
       "| United States | 328239523 |\n",
       "| Northeast     |  55982803 |\n",
       "| Midwest       |  68329004 |\n",
       "| South         | 125580448 |\n",
       "| West          |  78347268 |\n",
       "| AL            |   4903185 |\n",
       "\n"
      ],
      "text/plain": [
       "  region        pop      \n",
       "1 United States 328239523\n",
       "2 Northeast      55982803\n",
       "3 Midwest        68329004\n",
       "4 South         125580448\n",
       "5 West           78347268\n",
       "6 AL              4903185"
      ]
     },
     "metadata": {},
     "output_type": "display_data"
    }
   ],
   "source": [
    "census_df %>% head()"
   ]
  },
  {
   "cell_type": "code",
   "execution_count": 53,
   "metadata": {},
   "outputs": [],
   "source": [
    "write_csv(census_df, path = './census.csv')"
   ]
  },
  {
   "cell_type": "code",
   "execution_count": null,
   "metadata": {},
   "outputs": [],
   "source": []
  }
 ],
 "metadata": {
  "kernelspec": {
   "display_name": "R",
   "language": "R",
   "name": "ir"
  },
  "language_info": {
   "codemirror_mode": "r",
   "file_extension": ".r",
   "mimetype": "text/x-r-source",
   "name": "R",
   "pygments_lexer": "r",
   "version": "3.6.3"
  }
 },
 "nbformat": 4,
 "nbformat_minor": 2
}
